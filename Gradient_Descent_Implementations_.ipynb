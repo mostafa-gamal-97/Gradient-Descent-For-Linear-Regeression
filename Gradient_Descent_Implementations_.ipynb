{
 "cells": [
  {
   "cell_type": "markdown",
   "metadata": {
    "id": "iQmcBFr2yq0q"
   },
   "source": [
    "# Gradient Descent Implementations for Linear Regression"
   ]
  },
  {
   "cell_type": "code",
   "execution_count": 1,
   "metadata": {
    "colab": {
     "base_uri": "https://localhost:8080/"
    },
    "id": "ob9nSpiCiDjO",
    "outputId": "29789598-1ac7-4ebc-d4b5-c2df6fca641e"
   },
   "outputs": [
    {
     "name": "stdout",
     "output_type": "stream",
     "text": [
      "Mounted at /content/drive\n"
     ]
    }
   ],
   "source": [
    "from google.colab import drive\n",
    "drive.mount('/content/drive')"
   ]
  },
  {
   "cell_type": "code",
   "execution_count": 2,
   "metadata": {
    "colab": {
     "base_uri": "https://localhost:8080/"
    },
    "id": "CD4wCNIgiYQq",
    "outputId": "90d7f13a-5cd8-4d36-c7c9-89ac1cbde2d5"
   },
   "outputs": [
    {
     "name": "stdout",
     "output_type": "stream",
     "text": [
      "/content\n",
      "/content/drive/MyDrive/Colab Notebooks/codebasics_DL/WA_Fn-UseC_-Telco-Customer-Churn.csv\n",
      "/content/drive/MyDrive/Colab Notebooks/codebasics_DL/homeprices_banglore.csv\n",
      "/content/drive/MyDrive/Colab Notebooks/codebasics_DL/insurance_data.csv\n",
      "/content/drive/MyDrive/Colab Notebooks/codebasics_DL/homeprices.csv\n"
     ]
    }
   ],
   "source": [
    "import numpy as np\n",
    "import pandas as pd \n",
    "import matplotlib.pyplot as plt\n",
    "import seaborn\n",
    "import os\n",
    "from sklearn.preprocessing import MinMaxScaler\n",
    "\n",
    "%matplotlib inline\n",
    "seaborn.set(style = 'whitegrid', font_scale = 1.5)\n",
    "# current working directory\n",
    "print(os.getcwd())\n",
    "# change directory\n",
    "data_path = '/content/drive/MyDrive/Colab Notebooks/codebasics_DL'\n",
    "os.chdir(data_path)\n",
    "# print directory files\n",
    "for dirname, _, filenames in os.walk(data_path):\n",
    "    for filename in filenames:\n",
    "        print(os.path.join(dirname, filename))"
   ]
  },
  {
   "cell_type": "code",
   "execution_count": 3,
   "metadata": {
    "colab": {
     "base_uri": "https://localhost:8080/",
     "height": 206
    },
    "id": "XTWKDsNTwIor",
    "outputId": "6b1a7f42-9ae3-4456-9b77-57e1735d8516"
   },
   "outputs": [
    {
     "data": {
      "text/html": [
       "\n",
       "  <div id=\"df-5bc39ce4-d7fb-4f5d-a44b-7e3be87a5a0f\">\n",
       "    <div class=\"colab-df-container\">\n",
       "      <div>\n",
       "<style scoped>\n",
       "    .dataframe tbody tr th:only-of-type {\n",
       "        vertical-align: middle;\n",
       "    }\n",
       "\n",
       "    .dataframe tbody tr th {\n",
       "        vertical-align: top;\n",
       "    }\n",
       "\n",
       "    .dataframe thead th {\n",
       "        text-align: right;\n",
       "    }\n",
       "</style>\n",
       "<table border=\"1\" class=\"dataframe\">\n",
       "  <thead>\n",
       "    <tr style=\"text-align: right;\">\n",
       "      <th></th>\n",
       "      <th>area</th>\n",
       "      <th>bedrooms</th>\n",
       "      <th>price</th>\n",
       "    </tr>\n",
       "  </thead>\n",
       "  <tbody>\n",
       "    <tr>\n",
       "      <th>0</th>\n",
       "      <td>1056</td>\n",
       "      <td>2</td>\n",
       "      <td>39.07</td>\n",
       "    </tr>\n",
       "    <tr>\n",
       "      <th>1</th>\n",
       "      <td>2600</td>\n",
       "      <td>4</td>\n",
       "      <td>120.00</td>\n",
       "    </tr>\n",
       "    <tr>\n",
       "      <th>2</th>\n",
       "      <td>1440</td>\n",
       "      <td>3</td>\n",
       "      <td>62.00</td>\n",
       "    </tr>\n",
       "    <tr>\n",
       "      <th>3</th>\n",
       "      <td>1521</td>\n",
       "      <td>3</td>\n",
       "      <td>75.00</td>\n",
       "    </tr>\n",
       "    <tr>\n",
       "      <th>4</th>\n",
       "      <td>1200</td>\n",
       "      <td>2</td>\n",
       "      <td>51.00</td>\n",
       "    </tr>\n",
       "  </tbody>\n",
       "</table>\n",
       "</div>\n",
       "      <button class=\"colab-df-convert\" onclick=\"convertToInteractive('df-5bc39ce4-d7fb-4f5d-a44b-7e3be87a5a0f')\"\n",
       "              title=\"Convert this dataframe to an interactive table.\"\n",
       "              style=\"display:none;\">\n",
       "        \n",
       "  <svg xmlns=\"http://www.w3.org/2000/svg\" height=\"24px\"viewBox=\"0 0 24 24\"\n",
       "       width=\"24px\">\n",
       "    <path d=\"M0 0h24v24H0V0z\" fill=\"none\"/>\n",
       "    <path d=\"M18.56 5.44l.94 2.06.94-2.06 2.06-.94-2.06-.94-.94-2.06-.94 2.06-2.06.94zm-11 1L8.5 8.5l.94-2.06 2.06-.94-2.06-.94L8.5 2.5l-.94 2.06-2.06.94zm10 10l.94 2.06.94-2.06 2.06-.94-2.06-.94-.94-2.06-.94 2.06-2.06.94z\"/><path d=\"M17.41 7.96l-1.37-1.37c-.4-.4-.92-.59-1.43-.59-.52 0-1.04.2-1.43.59L10.3 9.45l-7.72 7.72c-.78.78-.78 2.05 0 2.83L4 21.41c.39.39.9.59 1.41.59.51 0 1.02-.2 1.41-.59l7.78-7.78 2.81-2.81c.8-.78.8-2.07 0-2.86zM5.41 20L4 18.59l7.72-7.72 1.47 1.35L5.41 20z\"/>\n",
       "  </svg>\n",
       "      </button>\n",
       "      \n",
       "  <style>\n",
       "    .colab-df-container {\n",
       "      display:flex;\n",
       "      flex-wrap:wrap;\n",
       "      gap: 12px;\n",
       "    }\n",
       "\n",
       "    .colab-df-convert {\n",
       "      background-color: #E8F0FE;\n",
       "      border: none;\n",
       "      border-radius: 50%;\n",
       "      cursor: pointer;\n",
       "      display: none;\n",
       "      fill: #1967D2;\n",
       "      height: 32px;\n",
       "      padding: 0 0 0 0;\n",
       "      width: 32px;\n",
       "    }\n",
       "\n",
       "    .colab-df-convert:hover {\n",
       "      background-color: #E2EBFA;\n",
       "      box-shadow: 0px 1px 2px rgba(60, 64, 67, 0.3), 0px 1px 3px 1px rgba(60, 64, 67, 0.15);\n",
       "      fill: #174EA6;\n",
       "    }\n",
       "\n",
       "    [theme=dark] .colab-df-convert {\n",
       "      background-color: #3B4455;\n",
       "      fill: #D2E3FC;\n",
       "    }\n",
       "\n",
       "    [theme=dark] .colab-df-convert:hover {\n",
       "      background-color: #434B5C;\n",
       "      box-shadow: 0px 1px 3px 1px rgba(0, 0, 0, 0.15);\n",
       "      filter: drop-shadow(0px 1px 2px rgba(0, 0, 0, 0.3));\n",
       "      fill: #FFFFFF;\n",
       "    }\n",
       "  </style>\n",
       "\n",
       "      <script>\n",
       "        const buttonEl =\n",
       "          document.querySelector('#df-5bc39ce4-d7fb-4f5d-a44b-7e3be87a5a0f button.colab-df-convert');\n",
       "        buttonEl.style.display =\n",
       "          google.colab.kernel.accessAllowed ? 'block' : 'none';\n",
       "\n",
       "        async function convertToInteractive(key) {\n",
       "          const element = document.querySelector('#df-5bc39ce4-d7fb-4f5d-a44b-7e3be87a5a0f');\n",
       "          const dataTable =\n",
       "            await google.colab.kernel.invokeFunction('convertToInteractive',\n",
       "                                                     [key], {});\n",
       "          if (!dataTable) return;\n",
       "\n",
       "          const docLinkHtml = 'Like what you see? Visit the ' +\n",
       "            '<a target=\"_blank\" href=https://colab.research.google.com/notebooks/data_table.ipynb>data table notebook</a>'\n",
       "            + ' to learn more about interactive tables.';\n",
       "          element.innerHTML = '';\n",
       "          dataTable['output_type'] = 'display_data';\n",
       "          await google.colab.output.renderOutput(dataTable, element);\n",
       "          const docLink = document.createElement('div');\n",
       "          docLink.innerHTML = docLinkHtml;\n",
       "          element.appendChild(docLink);\n",
       "        }\n",
       "      </script>\n",
       "    </div>\n",
       "  </div>\n",
       "  "
      ],
      "text/plain": [
       "   area  bedrooms   price\n",
       "0  1056         2   39.07\n",
       "1  2600         4  120.00\n",
       "2  1440         3   62.00\n",
       "3  1521         3   75.00\n",
       "4  1200         2   51.00"
      ]
     },
     "execution_count": 3,
     "metadata": {},
     "output_type": "execute_result"
    }
   ],
   "source": [
    "df = pd.read_csv('/content/drive/MyDrive/Colab Notebooks/codebasics_DL/homeprices_banglore.csv')\n",
    "df.head()"
   ]
  },
  {
   "cell_type": "markdown",
   "metadata": {
    "id": "yzqPkMuwwTLu"
   },
   "source": [
    "## Data Preprocessing"
   ]
  },
  {
   "cell_type": "code",
   "execution_count": 4,
   "metadata": {
    "id": "7pNIldfkwXPa"
   },
   "outputs": [],
   "source": [
    "scaler_X = MinMaxScaler()\n",
    "scaler_y = MinMaxScaler()\n",
    "\n",
    "X_scaled = scaler_X.fit_transform(df.drop('price', axis = 'columns'))\n",
    "y_scaled = scaler_y.fit_transform(df['price'].values.reshape(df.shape[0], 1))"
   ]
  },
  {
   "cell_type": "code",
   "execution_count": 5,
   "metadata": {
    "colab": {
     "base_uri": "https://localhost:8080/"
    },
    "id": "3mNeZehxxMhp",
    "outputId": "9d7ce387-44f3-4fe1-e03b-0f9c09ba2b92"
   },
   "outputs": [
    {
     "name": "stdout",
     "output_type": "stream",
     "text": [
      "[[0.08827586 0.25      ]\n",
      " [0.62068966 0.75      ]\n",
      " [0.22068966 0.5       ]\n",
      " [0.24862069 0.5       ]\n",
      " [0.13793103 0.25      ]]\n",
      "------------------------------\n",
      "[[0.05237037]\n",
      " [0.65185185]\n",
      " [0.22222222]\n",
      " [0.31851852]\n",
      " [0.14074074]]\n"
     ]
    }
   ],
   "source": [
    "print(X_scaled[:5])\n",
    "print('-' * 30)\n",
    "print(y_scaled[:5])"
   ]
  },
  {
   "cell_type": "markdown",
   "metadata": {
    "id": "CSGlOtbmxi6y"
   },
   "source": [
    "Reshape price into 1D array,"
   ]
  },
  {
   "cell_type": "code",
   "execution_count": 6,
   "metadata": {
    "colab": {
     "base_uri": "https://localhost:8080/"
    },
    "id": "iqEqAkgRxiFt",
    "outputId": "ae1d04db-5296-4af3-89a6-7debf72fde29"
   },
   "outputs": [
    {
     "data": {
      "text/plain": [
       "array([0.05237037, 0.65185185, 0.22222222, 0.31851852, 0.14074074,\n",
       "       0.04444444, 0.76296296, 0.91111111, 0.13333333, 1.        ,\n",
       "       0.37037037, 0.8       , 0.04444444, 0.05925926, 0.51111111,\n",
       "       0.07407407, 0.11851852, 0.20740741, 0.51851852, 0.        ])"
      ]
     },
     "execution_count": 6,
     "metadata": {},
     "output_type": "execute_result"
    }
   ],
   "source": [
    "y_scaled.reshape(20, )"
   ]
  },
  {
   "cell_type": "code",
   "execution_count": 7,
   "metadata": {
    "colab": {
     "base_uri": "https://localhost:8080/"
    },
    "id": "eSUhxFGg0iD6",
    "outputId": "e028cdfc-9828-4062-fed5-020545036d10"
   },
   "outputs": [
    {
     "name": "stdout",
     "output_type": "stream",
     "text": [
      "[1. 1.]\n"
     ]
    }
   ],
   "source": [
    "# Testing Cell\n",
    "print(np.ones(2))"
   ]
  },
  {
   "cell_type": "markdown",
   "metadata": {
    "id": "B9r2FdD3xu6J"
   },
   "source": [
    "**Price = w1 * area + w2 * bedrooms + bias** "
   ]
  },
  {
   "cell_type": "markdown",
   "metadata": {
    "id": "-Zs1iNv9h7yJ"
   },
   "source": [
    "## 1. Batch Gradient Descent"
   ]
  },
  {
   "cell_type": "code",
   "execution_count": 8,
   "metadata": {
    "id": "UQOkAImthvq0"
   },
   "outputs": [],
   "source": [
    "def batch_gd(X, y_true, epochs, learning_rate=0.01):\n",
    "    number_of_features  = X.shape[1]\n",
    "    # initialize weights and bias\n",
    "    W = np.ones(shape = (number_of_features))\n",
    "    b = 0\n",
    "    total_samples = len(X[0])\n",
    "\n",
    "    cost_list = []\n",
    "    epoch_list = []\n",
    "\n",
    "    for i in range(epochs):\n",
    "        y_predicted = np.dot(W, X.T) + b\n",
    "\n",
    "        # derivatives\n",
    "        dW = -(2/total_samples) * np.dot(X.T, (y_true - y_predicted))\n",
    "        db = -(2/total_samples) * np.sum(y_true - y_predicted)\n",
    "        # Update Rule\n",
    "        W = W - learning_rate * dW\n",
    "        b = b - learning_rate * db\n",
    "        \n",
    "        cost = np.mean(np.square(y_true - y_predicted)) # MSE (mean squared error)\n",
    "        \n",
    "        if i%10 ==0:\n",
    "            cost_list.append(cost)\n",
    "            epoch_list.append(i)\n",
    "    \n",
    "    return W, b, cost, cost_list, epoch_list"
   ]
  },
  {
   "cell_type": "code",
   "execution_count": 9,
   "metadata": {
    "colab": {
     "base_uri": "https://localhost:8080/"
    },
    "id": "3n8upjLryET2",
    "outputId": "19ca21a1-14fd-4c3a-d6b8-b5a2920c183a"
   },
   "outputs": [
    {
     "name": "stdout",
     "output_type": "stream",
     "text": [
      "W_batch: [0.75550442 0.41573953], b_batch: -0.11682769564715854' cost_batch: 0.0034268126227234427\n"
     ]
    }
   ],
   "source": [
    "# Testing Cell\n",
    "W, b, cost, cost_list, epoch_list = batch_gd(X_scaled, y_scaled.reshape(y_scaled.shape[0], ), epochs=500)\n",
    "print(f\"W_batch: {W}, b_batch: {b}' cost_batch: {cost}\")"
   ]
  },
  {
   "cell_type": "code",
   "execution_count": 10,
   "metadata": {
    "id": "uucd-BxTyNuF"
   },
   "outputs": [],
   "source": [
    "def plot_learning_curve(epochs, cost):\n",
    "    # Learning Curve\n",
    "    fig = plt.figure(figsize = (8, 4))\n",
    "    plt.xlabel('Number of Epochs')\n",
    "    plt.ylabel('Cost Function')\n",
    "    plt.plot(epochs, cost)"
   ]
  },
  {
   "cell_type": "code",
   "execution_count": 11,
   "metadata": {
    "colab": {
     "base_uri": "https://localhost:8080/",
     "height": 298
    },
    "id": "IHjCKsXM-9_q",
    "outputId": "e874b877-5e17-4b4a-9e50-756827cbdc78"
   },
   "outputs": [
    {
     "data": {
      "image/png": "[encoded data removed]",
      "text/plain": [
       "<Figure size 576x288 with 1 Axes>"
      ]
     },
     "metadata": {},
     "output_type": "display_data"
    }
   ],
   "source": [
    "plot_learning_curve(epoch_list, cost_list)"
   ]
  },
  {
   "cell_type": "code",
   "execution_count": 12,
   "metadata": {
    "id": "i6Z10N3s1g3R"
   },
   "outputs": [],
   "source": [
    "def predict(area,bedrooms, w, b):\n",
    "    scaled_X = scaler_X.transform([[area, bedrooms]])[0]\n",
    "    # here w1 = w[0] , w2 = w[1], w3 = w[2] and bias is b\n",
    "    # equation for price is w1*area + w2*bedrooms + w3*age + bias\n",
    "    # scaled_X[0] is area\n",
    "    # scaled_X[1] is bedrooms\n",
    "    # scaled_X[2] is age\n",
    "    scaled_price = w[0] * scaled_X[0] + w[1] * scaled_X[1] + b\n",
    "    # once we get price prediction we need to to rescal it back to original value\n",
    "    # also since it returns 2D array, to get single value we need to do value[0][0]\n",
    "    return scaler_y.inverse_transform([[scaled_price]])[0][0]"
   ]
  },
  {
   "cell_type": "code",
   "execution_count": 13,
   "metadata": {
    "colab": {
     "base_uri": "https://localhost:8080/"
    },
    "id": "J9EUz-vD2bBq",
    "outputId": "7adfed62-0009-4a00-c0f9-bb55c7bdfafe"
   },
   "outputs": [
    {
     "name": "stdout",
     "output_type": "stream",
     "text": [
      "121.6279485426776\n",
      "37.293476976103996\n",
      "68.9097028119826\n"
     ]
    }
   ],
   "source": [
    "import warnings\n",
    "warnings.filterwarnings('ignore')\n",
    "## Testing prediction function\n",
    "print(predict(2600, 4, W, b))\n",
    "print(predict(1000, 2, W, b))\n",
    "print(predict(1500, 3, W, b))"
   ]
  },
  {
   "cell_type": "markdown",
   "metadata": {
    "id": "_4Jmw3Yz1aDM"
   },
   "source": [
    "## 2. Stochastic Gradient Descent"
   ]
  },
  {
   "cell_type": "markdown",
   "metadata": {
    "id": "xupR6Qxu6XQL"
   },
   "source": [
    "stochastic gradinet descent picks up a random sample to calculate error and backpropagate to update weights."
   ]
  },
  {
   "cell_type": "code",
   "execution_count": 14,
   "metadata": {
    "colab": {
     "base_uri": "https://localhost:8080/"
    },
    "id": "pojT5_CE1SSX",
    "outputId": "df1d1ce6-96fa-485d-87d2-e3b3a3e91267"
   },
   "outputs": [
    {
     "data": {
      "text/plain": [
       "1"
      ]
     },
     "execution_count": 14,
     "metadata": {},
     "output_type": "execute_result"
    }
   ],
   "source": [
    "# we will use random libary to pick random training sample.\n",
    "import random\n",
    "random.randint(0,6) # randit gives random number between two numbers specified in the argument"
   ]
  },
  {
   "cell_type": "code",
   "execution_count": 15,
   "metadata": {
    "id": "S1exHdNs6hxT"
   },
   "outputs": [],
   "source": [
    "def stochastic_gd(X, y_true, epochs, learning_rate=0.01):\n",
    "    number_of_features = X.shape[1]\n",
    "    # initialize weights and bias\n",
    "    W = np.ones(number_of_features)\n",
    "    b = 0\n",
    "    total_samples = X.shape[0]\n",
    "\n",
    "    cost_list = []\n",
    "    epoch_list = []\n",
    "\n",
    "    for i in range(epochs):\n",
    "        # Get a random index\n",
    "        random_index = np.random.randint(0, total_samples-1)\n",
    "        sample_X = X[random_index]\n",
    "        sample_y = y_true[random_index]\n",
    "        # y_predicted\n",
    "        y_predicted = np.dot(sample_X.T, W) + b\n",
    "\n",
    "        # Derivatives\n",
    "        dW = -(2/total_samples) * np.dot(sample_X.T, (sample_y - y_predicted))\n",
    "        db = -(2/total_samples) * (sample_y - y_predicted)\n",
    "\n",
    "        # Update Rule\n",
    "        W = W - learning_rate * dW\n",
    "        b = b - learning_rate * db\n",
    "\n",
    "        cost = np.square(sample_y - y_predicted)\n",
    "\n",
    "        if i % 100 == 0:\n",
    "            cost_list.append(cost)\n",
    "            epoch_list.append(i)\n",
    "    \n",
    "    return W, b, cost, cost_list, epoch_list"
   ]
  },
  {
   "cell_type": "code",
   "execution_count": 16,
   "metadata": {
    "colab": {
     "base_uri": "https://localhost:8080/"
    },
    "id": "sgs0zulf9P7s",
    "outputId": "782fd67f-3714-4cb5-94c0-3a8814465ac7"
   },
   "outputs": [
    {
     "name": "stdout",
     "output_type": "stream",
     "text": [
      "W_sgd: [0.72268538 0.70734714], b_sgd: -0.26096938187352015, cost_sgd: 0.0003462727210219111\n"
     ]
    }
   ],
   "source": [
    "W_sgd, b_sgd, cost_sgd, cost_list_sgd, epoch_list_sgd = stochastic_gd(X_scaled, y_scaled.reshape(y_scaled.shape[0], ),\n",
    "                                                                                     epochs = 10000) \n",
    "print(f\"W_sgd: {W_sgd}, b_sgd: {b_sgd}, cost_sgd: {cost_sgd}\")"
   ]
  },
  {
   "cell_type": "code",
   "execution_count": 17,
   "metadata": {
    "colab": {
     "base_uri": "https://localhost:8080/",
     "height": 298
    },
    "id": "5ni3Lhmd9wWR",
    "outputId": "802a59fe-8928-4d08-b40b-c8f194bffcc9"
   },
   "outputs": [
    {
     "data": {
      "image/png": "[encoded data removed]",
      "text/plain": [
       "<Figure size 576x288 with 1 Axes>"
      ]
     },
     "metadata": {},
     "output_type": "display_data"
    }
   ],
   "source": [
    "plot_learning_curve(epoch_list_sgd, cost_list_sgd)"
   ]
  },
  {
   "cell_type": "code",
   "execution_count": 18,
   "metadata": {
    "id": "H8HF-_UsABHQ"
   },
   "outputs": [],
   "source": [
    "def predict(area,bedrooms, w, b):\n",
    "    scaled_X = scaler_X.transform([[area, bedrooms]])[0]\n",
    "    # here w1 = w[0] , w2 = w[1], w3 = w[2] and bias is b\n",
    "    # equation for price is w1*area + w2*bedrooms + w3*age + bias\n",
    "    # scaled_X[0] is area\n",
    "    # scaled_X[1] is bedrooms\n",
    "    # scaled_X[2] is age\n",
    "    scaled_price = w[0] * scaled_X[0] + w[1] * scaled_X[1] + b\n",
    "    # once we get price prediction we need to to rescal it back to original value\n",
    "    # also since it returns 2D array, to get single value we need to do value[0][0]\n",
    "    return scaler_y.inverse_transform([[scaled_price]])[0][0]"
   ]
  },
  {
   "cell_type": "code",
   "execution_count": 19,
   "metadata": {
    "colab": {
     "base_uri": "https://localhost:8080/"
    },
    "id": "l0eq_jMVAItM",
    "outputId": "74f9b6be-095a-4666-bafe-7d2a78d0cb36"
   },
   "outputs": [
    {
     "name": "stdout",
     "output_type": "stream",
     "text": [
      "128.94408219610926\n",
      "27.37054951323815\n",
      "68.0646407170376\n"
     ]
    }
   ],
   "source": [
    "import warnings\n",
    "warnings.filterwarnings('ignore')\n",
    "## Testing prediction function\n",
    "print(predict(2600, 4, W_sgd, b_sgd))\n",
    "print(predict(1000, 2, W_sgd, b_sgd))\n",
    "print(predict(1500, 3, W_sgd, b_sgd))"
   ]
  },
  {
   "cell_type": "markdown",
   "metadata": {
    "id": "oXJ4-i1h_TxW"
   },
   "source": [
    "## 3. Mini_Batch Gradient Descent"
   ]
  },
  {
   "cell_type": "code",
   "execution_count": 20,
   "metadata": {
    "colab": {
     "base_uri": "https://localhost:8080/"
    },
    "id": "LlXT1B1Y_NML",
    "outputId": "4b439830-300b-4c6f-d77c-3a194736b5f0"
   },
   "outputs": [
    {
     "data": {
      "text/plain": [
       "array([13,  2,  0, 16,  4,  1,  7, 18,  5, 10, 19,  3, 12, 15, 14, 17,  6,\n",
       "        9, 11,  8])"
      ]
     },
     "execution_count": 20,
     "metadata": {},
     "output_type": "execute_result"
    }
   ],
   "source": [
    "# Get random indices\n",
    "np.random.permutation(20)"
   ]
  },
  {
   "cell_type": "code",
   "execution_count": 21,
   "metadata": {
    "id": "0dkhT8MkAmeT"
   },
   "outputs": [],
   "source": [
    "def mini_batch_gd(X, y_true, epochs, batch_size=5, learning_rate=0.01):\n",
    "    # No. of features\n",
    "    n_features = X.shape[1]\n",
    "    # Initialize weights and biases\n",
    "    W = np.ones(n_features)\n",
    "    b = 0\n",
    "    \n",
    "    total_samples = X.shape[0]\n",
    "    num_batches = int(total_samples / batch_size)\n",
    "\n",
    "    cost_list = []\n",
    "    epoch_list = []\n",
    "\n",
    "    for i in range(epochs): \n",
    "        random_indices = np.random.permutation(total_samples)\n",
    "        X_random = X[random_indices]\n",
    "        y_random = y_true[random_indices]\n",
    "\n",
    "        for j in range(0, total_samples, batch_size):\n",
    "            X_batch = X_random[j: j+batch_size]\n",
    "            y_batch = y_random[j: j+batch_size]\n",
    "            # y_predicted\n",
    "            y_predicted = np.dot(W, X_batch.T) + b\n",
    "\n",
    "            # Derivatives\n",
    "            dW = -(2/len(X_batch)) * np.dot(X_batch.T, (y_batch - y_predicted))\n",
    "            db = -(2/len(X_batch)) * np.sum((y_batch - y_predicted))\n",
    "\n",
    "            # Update Rule\n",
    "            W = W - learning_rate * dW \n",
    "            b = b - learning_rate * db\n",
    "            # batch cost\n",
    "            cost = np.mean(np.square(y_batch - y_predicted)) # MSE (mean squared error)\n",
    "        \n",
    "        if i % 10 == 0:\n",
    "            cost_list.append(cost)\n",
    "            epoch_list.append(i)\n",
    "    \n",
    "    return W, b, cost, cost_list, epoch_list"
   ]
  },
  {
   "cell_type": "code",
   "execution_count": 22,
   "metadata": {
    "colab": {
     "base_uri": "https://localhost:8080/"
    },
    "id": "wF-OeSnHNqlL",
    "outputId": "4d47785c-8b09-4ae3-cdab-27578996e47b"
   },
   "outputs": [
    {
     "name": "stdout",
     "output_type": "stream",
     "text": [
      "W_mini: [0.69298854 0.65683341], b_mini: -0.21565487343543363, cost_mini: 0.01093327864956863\n"
     ]
    }
   ],
   "source": [
    "W_mini, b_mini, cost_mini, cost_list_mini, epoch_list_mini = mini_batch_gd(X_scaled, y_scaled.reshape(y_scaled.shape[0], ),\n",
    "                                                                                     epochs=150) \n",
    "print(f\"W_mini: {W_mini}, b_mini: {b_mini}, cost_mini: {cost_mini}\")"
   ]
  },
  {
   "cell_type": "code",
   "execution_count": 23,
   "metadata": {
    "colab": {
     "base_uri": "https://localhost:8080/",
     "height": 298
    },
    "id": "CogrbztPOJKQ",
    "outputId": "7d8ef418-2be0-4733-8fdc-f52a6a1b2f55"
   },
   "outputs": [
    {
     "data": {
      "image/png": "[encoded data removed]",
      "text/plain": [
       "<Figure size 576x288 with 1 Axes>"
      ]
     },
     "metadata": {},
     "output_type": "display_data"
    }
   ],
   "source": [
    "plot_learning_curve(epoch_list_mini, cost_list_mini)"
   ]
  },
  {
   "cell_type": "code",
   "execution_count": 24,
   "metadata": {
    "id": "7iWdx_VCPd_c"
   },
   "outputs": [],
   "source": [
    "def predict(area,bedrooms, w, b):\n",
    "    scaled_X = scaler_X.transform([[area, bedrooms]])[0]\n",
    "    # here w1 = w[0] , w2 = w[1], w3 = w[2] and bias is b\n",
    "    # equation for price is w1*area + w2*bedrooms + w3*age + bias\n",
    "    # scaled_X[0] is area\n",
    "    # scaled_X[1] is bedrooms\n",
    "    # scaled_X[2] is age\n",
    "    scaled_price = w[0] * scaled_X[0] + w[1] * scaled_X[1] + b\n",
    "    # once we get price prediction we need to to rescal it back to original value\n",
    "    # also since it returns 2D array, to get single value we need to do value[0][0]\n",
    "    return scaler_y.inverse_transform([[scaled_price]])[0][0]"
   ]
  },
  {
   "cell_type": "code",
   "execution_count": 25,
   "metadata": {
    "colab": {
     "base_uri": "https://localhost:8080/"
    },
    "id": "8QIQWuSnPwYj",
    "outputId": "6fc4864b-a22a-4376-da35-1d50732de509"
   },
   "outputs": [
    {
     "name": "stdout",
     "output_type": "stream",
     "text": [
      "127.45863456858669\n",
      "31.506681780140696\n",
      "69.80471482421432\n"
     ]
    }
   ],
   "source": [
    "import warnings\n",
    "warnings.filterwarnings('ignore')\n",
    "## Testing prediction function\n",
    "print(predict(2600, 4, W_mini, b_mini))\n",
    "print(predict(1000, 2, W_mini, b_mini))\n",
    "print(predict(1500, 3, W_mini, b_mini))"
   ]
  },
  {
   "cell_type": "code",
   "execution_count": 25,
   "metadata": {
    "id": "d3aGzWlWP1fN"
   },
   "outputs": [],
   "source": []
  }
 ],
 "metadata": {
  "colab": {
   "collapsed_sections": [],
   "name": "Gradient_Descent_Implementations .ipynb",
   "provenance": []
  },
  "kernelspec": {
   "display_name": "Python 3 (ipykernel)",
   "language": "python",
   "name": "python3"
  },
  "language_info": {
   "codemirror_mode": {
    "name": "ipython",
    "version": 3
   },
   "file_extension": ".py",
   "mimetype": "text/x-python",
   "name": "python",
   "nbconvert_exporter": "python",
   "pygments_lexer": "ipython3",
   "version": "3.10.4"
  }
 },
 "nbformat": 4,
 "nbformat_minor": 1
}
